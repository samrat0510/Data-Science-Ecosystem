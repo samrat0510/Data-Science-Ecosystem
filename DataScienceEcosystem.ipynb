{
 "cells": [
  {
   "cell_type": "markdown",
   "id": "31b56681",
   "metadata": {},
   "source": [
    "# DATA SCIENCE TOOLS AND ECOSYSTEM"
   ]
  },
  {
   "cell_type": "markdown",
   "id": "8a16855b",
   "metadata": {},
   "source": [
    "In this notebook, Data Science Tools and Ecosystem are summarized."
   ]
  },
  {
   "cell_type": "markdown",
   "id": "a477f9f2",
   "metadata": {},
   "source": [
    "# Objectives:\n",
    "\n",
    "In this notebook, we aim to achieve the following objectives:\n",
    "\n",
    "- Perform calculations using Python code cells.\n",
    "- Convert units, such as minutes to hours, using Python.\n",
    "- Practice using Jupyter Notebook features for documentation and code execution.\n"
   ]
  },
  {
   "cell_type": "markdown",
   "id": "51703b68",
   "metadata": {},
   "source": [
    "\n",
    "Some of the popular languages that Data Scientists use are:\n",
    "1. Python\n",
    "2. R\n",
    "3. SQL\n",
    "4. Julia\n",
    "5. MATLAB\n"
   ]
  },
  {
   "cell_type": "markdown",
   "id": "9b28aa4e",
   "metadata": {},
   "source": [
    "Some of the commonly used libraries used by Data Scientists include:\n",
    "1. Pandas\n",
    "2. NumPy\n",
    "3. SciPy\n",
    "4. Matplotlib\n",
    "5. Seaborn\n",
    "6. Scikit-learn\n",
    "7. TensorFlow\n",
    "8. Keras\n",
    "9. PyTorch\n",
    "10. Statsmodels\n"
   ]
  },
  {
   "cell_type": "markdown",
   "id": "fac97f16",
   "metadata": {},
   "source": [
    "| Data Science Tools           |\n",
    "|----------------|\n",
    "| Jupyter Notebook | \n",
    "| RStudio         | \n",
    "| Spyder          |\n",
    "| VSCode          |\n",
    "| Google Colab    |\n",
    "| MATLAB          |\n",
    "| Tableau         |\n",
    "| Power BI        |\n",
    "| SAS             |\n",
    "| Excel           |"
   ]
  },
  {
   "cell_type": "markdown",
   "id": "80e15fe7",
   "metadata": {},
   "source": [
    "### Below are a few examples of evaluating arithmetic expressions in Python:\n",
    "\n"
   ]
  },
  {
   "cell_type": "code",
   "execution_count": 10,
   "id": "62994c8e",
   "metadata": {},
   "outputs": [
    {
     "data": {
      "text/plain": [
       "17"
      ]
     },
     "execution_count": 10,
     "metadata": {},
     "output_type": "execute_result"
    }
   ],
   "source": [
    "# This is a simple arithmetic expression to multiply and then add.\n",
    "(3*4)+5"
   ]
  },
  {
   "cell_type": "code",
   "execution_count": 11,
   "id": "222c9ee8",
   "metadata": {},
   "outputs": [
    {
     "data": {
      "text/plain": [
       "3.3333333333333335"
      ]
     },
     "execution_count": 11,
     "metadata": {},
     "output_type": "execute_result"
    }
   ],
   "source": [
    "# This will convert 200 minutes to hours by dividing by 60.\n",
    "200/60\n"
   ]
  },
  {
   "cell_type": "markdown",
   "id": "5170a792",
   "metadata": {},
   "source": [
    "## Author\n",
    "\n"
   ]
  },
  {
   "cell_type": "markdown",
   "id": "85704523",
   "metadata": {},
   "source": [
    "Samrat Saurav Singh"
   ]
  },
  {
   "cell_type": "code",
   "execution_count": null,
   "id": "13961d5d",
   "metadata": {},
   "outputs": [],
   "source": []
  }
 ],
 "metadata": {
  "kernelspec": {
   "display_name": "Python 3 (ipykernel)",
   "language": "python",
   "name": "python3"
  },
  "language_info": {
   "codemirror_mode": {
    "name": "ipython",
    "version": 3
   },
   "file_extension": ".py",
   "mimetype": "text/x-python",
   "name": "python",
   "nbconvert_exporter": "python",
   "pygments_lexer": "ipython3",
   "version": "3.11.5"
  }
 },
 "nbformat": 4,
 "nbformat_minor": 5
}
